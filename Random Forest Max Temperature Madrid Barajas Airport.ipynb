{
 "cells": [
  {
   "cell_type": "markdown",
   "metadata": {},
   "source": [
    "Air temperature is a relevant information for airlines and pilots as it affects air density which impacts maximum engine power or thrust. Thus high air temperatures limit maximum permissible takeoff weight of aircraft. That affects operating variables such as payload and total fuel loaded.\n",
    "\n",
    "The purpose of this Jupyter Notebook is to **predict the Maximum Temperature at Madrid Barajas Airport through random forest model** using the Global Summary of the Month for Madrid Barajas from [National Oceanic and Atmospheric Administration (NOAA)]. \n",
    "\n",
    "The period of the employed dataset goes from 1997-01-01 to 2018-01-01. The table shown below describes the content of the dataset.\n",
    "\n",
    "| Data Type | Description                                                         |\n",
    "|-----------|---------------------------------------------------------------------|\n",
    "| EMXP      | Extreme maximum precipitation for the period                        |\n",
    "| EMXT      | Extreme maximum temperature for the period                          |\n",
    "| PRCP      | Precipitation                                                       |\n",
    "| DX90      | Number days with maximum temperature > 90 F (32.2C)                 |      \n",
    "| DP10      | Number of days with >= 1.0 inch of precipitation                    |\n",
    "| HDSD      | Heating Degree Days Season to Date                                  |\n",
    "| HTDD      | Heating degree days                                                 |\n",
    "| DX70      | Number days with maximum temperature > 70 F (21.1C)                 |\n",
    "| DP01      | Number of days with >= 0.1 inch of precipitation                    |\n",
    "| CDSD      | Cooling Degree Days Season to Date                                  |\n",
    "| EMNT      | Extreme minimum temperature for the period                          |\n",
    "| DT32      | Number days with minimum temperature less than or equal to 32.0 F   |\n",
    "| DT00      | Number days with minimum temperature less than or equal to 0.0 F    |\n",
    "| DX32      | Number days with maximum temperature < 32 F                         |\n",
    "| CLDD      | Cooling Degree Days                                                 |\n",
    "| TMAX      | Maximum temperature                                                 |\n",
    "| TAVG      | Average Temperature                                                 |\n",
    "| TMIN      | Minimum temperature                                                 |\n",
    "\n",
    "\n",
    "[National Oceanic and Atmospheric Administration (NOAA)]: https://www.ncdc.noaa.gov/"
   ]
  },
  {
   "cell_type": "code",
   "execution_count": 1,
   "metadata": {},
   "outputs": [],
   "source": [
    "import pandas as pd # data structures\n",
    "import matplotlib.pyplot as plt # plotting\n",
    "import numpy as np # linear algebra, arrays\n",
    "import datetime # for dealing with dates\n",
    "import seaborn as sns # statistical data visualization"
   ]
  },
  {
   "cell_type": "markdown",
   "metadata": {},
   "source": [
    "**Load Data**"
   ]
  },
  {
   "cell_type": "markdown",
   "metadata": {},
   "source": [
    "Load data from file, display first 5 rows and check metric units"
   ]
  },
  {
   "cell_type": "code",
   "execution_count": 2,
   "metadata": {
    "scrolled": true
   },
   "outputs": [
    {
     "data": {
      "text/html": [
       "<div>\n",
       "<style scoped>\n",
       "    .dataframe tbody tr th:only-of-type {\n",
       "        vertical-align: middle;\n",
       "    }\n",
       "\n",
       "    .dataframe tbody tr th {\n",
       "        vertical-align: top;\n",
       "    }\n",
       "\n",
       "    .dataframe thead th {\n",
       "        text-align: right;\n",
       "    }\n",
       "</style>\n",
       "<table border=\"1\" class=\"dataframe\">\n",
       "  <thead>\n",
       "    <tr style=\"text-align: right;\">\n",
       "      <th></th>\n",
       "      <th>STATION</th>\n",
       "      <th>NAME</th>\n",
       "      <th>LATITUDE</th>\n",
       "      <th>LONGITUDE</th>\n",
       "      <th>ELEVATION</th>\n",
       "      <th>DATE</th>\n",
       "      <th>CDSD</th>\n",
       "      <th>CDSD_ATTRIBUTES</th>\n",
       "      <th>CLDD</th>\n",
       "      <th>CLDD_ATTRIBUTES</th>\n",
       "      <th>...</th>\n",
       "      <th>HTDD</th>\n",
       "      <th>HTDD_ATTRIBUTES</th>\n",
       "      <th>PRCP</th>\n",
       "      <th>PRCP_ATTRIBUTES</th>\n",
       "      <th>TAVG</th>\n",
       "      <th>TAVG_ATTRIBUTES</th>\n",
       "      <th>TMAX</th>\n",
       "      <th>TMAX_ATTRIBUTES</th>\n",
       "      <th>TMIN</th>\n",
       "      <th>TMIN_ATTRIBUTES</th>\n",
       "    </tr>\n",
       "  </thead>\n",
       "  <tbody>\n",
       "    <tr>\n",
       "      <th>0</th>\n",
       "      <td>SPE00120278</td>\n",
       "      <td>MADRID BARAJAS, SP</td>\n",
       "      <td>40.4667</td>\n",
       "      <td>-3.5556</td>\n",
       "      <td>609.0</td>\n",
       "      <td>1997-01</td>\n",
       "      <td>0.0</td>\n",
       "      <td>E</td>\n",
       "      <td>0.0</td>\n",
       "      <td>,E</td>\n",
       "      <td>...</td>\n",
       "      <td>363.9</td>\n",
       "      <td>,E</td>\n",
       "      <td>80.0</td>\n",
       "      <td>,,,E</td>\n",
       "      <td>6.6</td>\n",
       "      <td>,E</td>\n",
       "      <td>10.7</td>\n",
       "      <td>,,,E</td>\n",
       "      <td>2.5</td>\n",
       "      <td>,,,E</td>\n",
       "    </tr>\n",
       "    <tr>\n",
       "      <th>1</th>\n",
       "      <td>SPE00120278</td>\n",
       "      <td>MADRID BARAJAS, SP</td>\n",
       "      <td>40.4667</td>\n",
       "      <td>-3.5556</td>\n",
       "      <td>609.0</td>\n",
       "      <td>1997-02</td>\n",
       "      <td>0.0</td>\n",
       "      <td>E</td>\n",
       "      <td>0.0</td>\n",
       "      <td>,E</td>\n",
       "      <td>...</td>\n",
       "      <td>254.0</td>\n",
       "      <td>,E</td>\n",
       "      <td>1.9</td>\n",
       "      <td>,,,E</td>\n",
       "      <td>9.3</td>\n",
       "      <td>,E</td>\n",
       "      <td>16.1</td>\n",
       "      <td>,,,E</td>\n",
       "      <td>2.5</td>\n",
       "      <td>,,,E</td>\n",
       "    </tr>\n",
       "    <tr>\n",
       "      <th>2</th>\n",
       "      <td>SPE00120278</td>\n",
       "      <td>MADRID BARAJAS, SP</td>\n",
       "      <td>40.4667</td>\n",
       "      <td>-3.5556</td>\n",
       "      <td>609.0</td>\n",
       "      <td>1997-03</td>\n",
       "      <td>0.0</td>\n",
       "      <td>E</td>\n",
       "      <td>0.0</td>\n",
       "      <td>,E</td>\n",
       "      <td>...</td>\n",
       "      <td>171.7</td>\n",
       "      <td>,E</td>\n",
       "      <td>0.0</td>\n",
       "      <td>,,,E</td>\n",
       "      <td>12.8</td>\n",
       "      <td>,E</td>\n",
       "      <td>22.1</td>\n",
       "      <td>,,,E</td>\n",
       "      <td>3.4</td>\n",
       "      <td>,,,E</td>\n",
       "    </tr>\n",
       "    <tr>\n",
       "      <th>3</th>\n",
       "      <td>SPE00120278</td>\n",
       "      <td>MADRID BARAJAS, SP</td>\n",
       "      <td>40.4667</td>\n",
       "      <td>-3.5556</td>\n",
       "      <td>609.0</td>\n",
       "      <td>1997-04</td>\n",
       "      <td>2.4</td>\n",
       "      <td>E</td>\n",
       "      <td>2.4</td>\n",
       "      <td>,E</td>\n",
       "      <td>...</td>\n",
       "      <td>91.3</td>\n",
       "      <td>,E</td>\n",
       "      <td>35.9</td>\n",
       "      <td>,,,E</td>\n",
       "      <td>15.4</td>\n",
       "      <td>,E</td>\n",
       "      <td>22.4</td>\n",
       "      <td>,,,E</td>\n",
       "      <td>8.4</td>\n",
       "      <td>,,,E</td>\n",
       "    </tr>\n",
       "    <tr>\n",
       "      <th>4</th>\n",
       "      <td>SPE00120278</td>\n",
       "      <td>MADRID BARAJAS, SP</td>\n",
       "      <td>40.4667</td>\n",
       "      <td>-3.5556</td>\n",
       "      <td>609.0</td>\n",
       "      <td>1997-05</td>\n",
       "      <td>13.1</td>\n",
       "      <td>E</td>\n",
       "      <td>10.7</td>\n",
       "      <td>,E</td>\n",
       "      <td>...</td>\n",
       "      <td>66.0</td>\n",
       "      <td>,E</td>\n",
       "      <td>60.1</td>\n",
       "      <td>,,,E</td>\n",
       "      <td>16.6</td>\n",
       "      <td>,E</td>\n",
       "      <td>22.9</td>\n",
       "      <td>,,,E</td>\n",
       "      <td>10.1</td>\n",
       "      <td>,,,E</td>\n",
       "    </tr>\n",
       "  </tbody>\n",
       "</table>\n",
       "<p>5 rows × 42 columns</p>\n",
       "</div>"
      ],
      "text/plain": [
       "       STATION                NAME  LATITUDE  LONGITUDE  ELEVATION     DATE  \\\n",
       "0  SPE00120278  MADRID BARAJAS, SP   40.4667    -3.5556      609.0  1997-01   \n",
       "1  SPE00120278  MADRID BARAJAS, SP   40.4667    -3.5556      609.0  1997-02   \n",
       "2  SPE00120278  MADRID BARAJAS, SP   40.4667    -3.5556      609.0  1997-03   \n",
       "3  SPE00120278  MADRID BARAJAS, SP   40.4667    -3.5556      609.0  1997-04   \n",
       "4  SPE00120278  MADRID BARAJAS, SP   40.4667    -3.5556      609.0  1997-05   \n",
       "\n",
       "   CDSD CDSD_ATTRIBUTES  CLDD CLDD_ATTRIBUTES       ...         HTDD  \\\n",
       "0   0.0               E   0.0              ,E       ...        363.9   \n",
       "1   0.0               E   0.0              ,E       ...        254.0   \n",
       "2   0.0               E   0.0              ,E       ...        171.7   \n",
       "3   2.4               E   2.4              ,E       ...         91.3   \n",
       "4  13.1               E  10.7              ,E       ...         66.0   \n",
       "\n",
       "  HTDD_ATTRIBUTES  PRCP PRCP_ATTRIBUTES  TAVG TAVG_ATTRIBUTES  TMAX  \\\n",
       "0              ,E  80.0            ,,,E   6.6              ,E  10.7   \n",
       "1              ,E   1.9            ,,,E   9.3              ,E  16.1   \n",
       "2              ,E   0.0            ,,,E  12.8              ,E  22.1   \n",
       "3              ,E  35.9            ,,,E  15.4              ,E  22.4   \n",
       "4              ,E  60.1            ,,,E  16.6              ,E  22.9   \n",
       "\n",
       "  TMAX_ATTRIBUTES  TMIN TMIN_ATTRIBUTES  \n",
       "0            ,,,E   2.5            ,,,E  \n",
       "1            ,,,E   2.5            ,,,E  \n",
       "2            ,,,E   3.4            ,,,E  \n",
       "3            ,,,E   8.4            ,,,E  \n",
       "4            ,,,E  10.1            ,,,E  \n",
       "\n",
       "[5 rows x 42 columns]"
      ]
     },
     "execution_count": 2,
     "metadata": {},
     "output_type": "execute_result"
    }
   ],
   "source": [
    "df = pd.read_csv('data/gsom_madrid_barajas_1997_2018.csv')\n",
    "df.head(5)"
   ]
  },
  {
   "cell_type": "markdown",
   "metadata": {},
   "source": [
    "**Identify and correct data**"
   ]
  },
  {
   "cell_type": "markdown",
   "metadata": {},
   "source": [
    "Split DATE column with *YYYY-MM* format into YEAR and MONTH columns"
   ]
  },
  {
   "cell_type": "code",
   "execution_count": 3,
   "metadata": {},
   "outputs": [],
   "source": [
    "df = df.assign(YEAR=df['DATE'].str.extract('^(....).*', expand=True))\n",
    "df = df.assign(MONTH=df['DATE'].str.extract('(?<=[-])(..)', expand=True))"
   ]
  },
  {
   "cell_type": "code",
   "execution_count": 4,
   "metadata": {},
   "outputs": [
    {
     "data": {
      "text/plain": [
       "['STATION',\n",
       " 'NAME',\n",
       " 'LATITUDE',\n",
       " 'LONGITUDE',\n",
       " 'ELEVATION',\n",
       " 'DATE',\n",
       " 'CDSD',\n",
       " 'CDSD_ATTRIBUTES',\n",
       " 'CLDD',\n",
       " 'CLDD_ATTRIBUTES',\n",
       " 'DP01',\n",
       " 'DP01_ATTRIBUTES',\n",
       " 'DP10',\n",
       " 'DP10_ATTRIBUTES',\n",
       " 'DT00',\n",
       " 'DT00_ATTRIBUTES',\n",
       " 'DT32',\n",
       " 'DT32_ATTRIBUTES',\n",
       " 'DX32',\n",
       " 'DX32_ATTRIBUTES',\n",
       " 'DX70',\n",
       " 'DX70_ATTRIBUTES',\n",
       " 'DX90',\n",
       " 'DX90_ATTRIBUTES',\n",
       " 'EMNT',\n",
       " 'EMNT_ATTRIBUTES',\n",
       " 'EMXP',\n",
       " 'EMXP_ATTRIBUTES',\n",
       " 'EMXT',\n",
       " 'EMXT_ATTRIBUTES',\n",
       " 'HDSD',\n",
       " 'HDSD_ATTRIBUTES',\n",
       " 'HTDD',\n",
       " 'HTDD_ATTRIBUTES',\n",
       " 'PRCP',\n",
       " 'PRCP_ATTRIBUTES',\n",
       " 'TAVG',\n",
       " 'TAVG_ATTRIBUTES',\n",
       " 'TMAX',\n",
       " 'TMAX_ATTRIBUTES',\n",
       " 'TMIN',\n",
       " 'TMIN_ATTRIBUTES',\n",
       " 'YEAR',\n",
       " 'MONTH']"
      ]
     },
     "execution_count": 4,
     "metadata": {},
     "output_type": "execute_result"
    }
   ],
   "source": [
    "list(df.columns)"
   ]
  },
  {
   "cell_type": "markdown",
   "metadata": {},
   "source": [
    "Drop columns which are not going to be used in the model"
   ]
  },
  {
   "cell_type": "code",
   "execution_count": 5,
   "metadata": {},
   "outputs": [],
   "source": [
    "drop_columns = ['STATION',\n",
    "                   'NAME',\n",
    "                   'LATITUDE',\n",
    "                   'LONGITUDE',\n",
    "                   'ELEVATION',\n",
    "                   'DATE',\n",
    "                   'CDSD_ATTRIBUTES',\n",
    "                   'CLDD_ATTRIBUTES',\n",
    "                   'DP01_ATTRIBUTES',\n",
    "                   'DP10_ATTRIBUTES',\n",
    "                   'DT00_ATTRIBUTES',\n",
    "                   'DT32_ATTRIBUTES',\n",
    "                   'DX32_ATTRIBUTES',\n",
    "                   'DX70_ATTRIBUTES',\n",
    "                   'DX90_ATTRIBUTES',\n",
    "                   'EMNT_ATTRIBUTES',\n",
    "                   'EMXP_ATTRIBUTES',\n",
    "                   'EMXT_ATTRIBUTES',\n",
    "                   'HDSD_ATTRIBUTES',\n",
    "                   'HTDD_ATTRIBUTES',\n",
    "                   'PRCP_ATTRIBUTES',\n",
    "                   'TAVG_ATTRIBUTES',\n",
    "                   'TMAX_ATTRIBUTES',\n",
    "                   'TMIN_ATTRIBUTES']\n",
    "\n",
    "df=df.drop(drop_columns, axis = 1)"
   ]
  },
  {
   "cell_type": "markdown",
   "metadata": {},
   "source": [
    "Check new filtered data"
   ]
  },
  {
   "cell_type": "code",
   "execution_count": 6,
   "metadata": {},
   "outputs": [
    {
     "data": {
      "text/html": [
       "<div>\n",
       "<style scoped>\n",
       "    .dataframe tbody tr th:only-of-type {\n",
       "        vertical-align: middle;\n",
       "    }\n",
       "\n",
       "    .dataframe tbody tr th {\n",
       "        vertical-align: top;\n",
       "    }\n",
       "\n",
       "    .dataframe thead th {\n",
       "        text-align: right;\n",
       "    }\n",
       "</style>\n",
       "<table border=\"1\" class=\"dataframe\">\n",
       "  <thead>\n",
       "    <tr style=\"text-align: right;\">\n",
       "      <th></th>\n",
       "      <th>CDSD</th>\n",
       "      <th>CLDD</th>\n",
       "      <th>DP01</th>\n",
       "      <th>DP10</th>\n",
       "      <th>DT00</th>\n",
       "      <th>DT32</th>\n",
       "      <th>DX32</th>\n",
       "      <th>DX70</th>\n",
       "      <th>DX90</th>\n",
       "      <th>EMNT</th>\n",
       "      <th>EMXP</th>\n",
       "      <th>EMXT</th>\n",
       "      <th>HDSD</th>\n",
       "      <th>HTDD</th>\n",
       "      <th>PRCP</th>\n",
       "      <th>TAVG</th>\n",
       "      <th>TMAX</th>\n",
       "      <th>TMIN</th>\n",
       "      <th>YEAR</th>\n",
       "      <th>MONTH</th>\n",
       "    </tr>\n",
       "  </thead>\n",
       "  <tbody>\n",
       "    <tr>\n",
       "      <th>0</th>\n",
       "      <td>0.0</td>\n",
       "      <td>0.0</td>\n",
       "      <td>14</td>\n",
       "      <td>9</td>\n",
       "      <td>0</td>\n",
       "      <td>6</td>\n",
       "      <td>0</td>\n",
       "      <td>0</td>\n",
       "      <td>0</td>\n",
       "      <td>-3.2</td>\n",
       "      <td>20.2</td>\n",
       "      <td>16.5</td>\n",
       "      <td>1101.1</td>\n",
       "      <td>363.9</td>\n",
       "      <td>80.0</td>\n",
       "      <td>6.6</td>\n",
       "      <td>10.7</td>\n",
       "      <td>2.5</td>\n",
       "      <td>1997</td>\n",
       "      <td>01</td>\n",
       "    </tr>\n",
       "    <tr>\n",
       "      <th>1</th>\n",
       "      <td>0.0</td>\n",
       "      <td>0.0</td>\n",
       "      <td>2</td>\n",
       "      <td>0</td>\n",
       "      <td>0</td>\n",
       "      <td>5</td>\n",
       "      <td>0</td>\n",
       "      <td>1</td>\n",
       "      <td>0</td>\n",
       "      <td>-1.8</td>\n",
       "      <td>1.5</td>\n",
       "      <td>21.8</td>\n",
       "      <td>1355.1</td>\n",
       "      <td>254.0</td>\n",
       "      <td>1.9</td>\n",
       "      <td>9.3</td>\n",
       "      <td>16.1</td>\n",
       "      <td>2.5</td>\n",
       "      <td>1997</td>\n",
       "      <td>02</td>\n",
       "    </tr>\n",
       "    <tr>\n",
       "      <th>2</th>\n",
       "      <td>0.0</td>\n",
       "      <td>0.0</td>\n",
       "      <td>0</td>\n",
       "      <td>0</td>\n",
       "      <td>0</td>\n",
       "      <td>1</td>\n",
       "      <td>0</td>\n",
       "      <td>24</td>\n",
       "      <td>0</td>\n",
       "      <td>0.0</td>\n",
       "      <td>0.0</td>\n",
       "      <td>26.0</td>\n",
       "      <td>1526.8</td>\n",
       "      <td>171.7</td>\n",
       "      <td>0.0</td>\n",
       "      <td>12.8</td>\n",
       "      <td>22.1</td>\n",
       "      <td>3.4</td>\n",
       "      <td>1997</td>\n",
       "      <td>03</td>\n",
       "    </tr>\n",
       "    <tr>\n",
       "      <th>3</th>\n",
       "      <td>2.4</td>\n",
       "      <td>2.4</td>\n",
       "      <td>5</td>\n",
       "      <td>3</td>\n",
       "      <td>0</td>\n",
       "      <td>0</td>\n",
       "      <td>0</td>\n",
       "      <td>20</td>\n",
       "      <td>0</td>\n",
       "      <td>3.0</td>\n",
       "      <td>18.0</td>\n",
       "      <td>27.4</td>\n",
       "      <td>1618.1</td>\n",
       "      <td>91.3</td>\n",
       "      <td>35.9</td>\n",
       "      <td>15.4</td>\n",
       "      <td>22.4</td>\n",
       "      <td>8.4</td>\n",
       "      <td>1997</td>\n",
       "      <td>04</td>\n",
       "    </tr>\n",
       "    <tr>\n",
       "      <th>4</th>\n",
       "      <td>13.1</td>\n",
       "      <td>10.7</td>\n",
       "      <td>11</td>\n",
       "      <td>6</td>\n",
       "      <td>0</td>\n",
       "      <td>0</td>\n",
       "      <td>0</td>\n",
       "      <td>21</td>\n",
       "      <td>0</td>\n",
       "      <td>1.9</td>\n",
       "      <td>13.9</td>\n",
       "      <td>29.8</td>\n",
       "      <td>1684.1</td>\n",
       "      <td>66.0</td>\n",
       "      <td>60.1</td>\n",
       "      <td>16.6</td>\n",
       "      <td>22.9</td>\n",
       "      <td>10.1</td>\n",
       "      <td>1997</td>\n",
       "      <td>05</td>\n",
       "    </tr>\n",
       "  </tbody>\n",
       "</table>\n",
       "</div>"
      ],
      "text/plain": [
       "   CDSD  CLDD  DP01  DP10  DT00  DT32  DX32  DX70  DX90  EMNT  EMXP  EMXT  \\\n",
       "0   0.0   0.0    14     9     0     6     0     0     0  -3.2  20.2  16.5   \n",
       "1   0.0   0.0     2     0     0     5     0     1     0  -1.8   1.5  21.8   \n",
       "2   0.0   0.0     0     0     0     1     0    24     0   0.0   0.0  26.0   \n",
       "3   2.4   2.4     5     3     0     0     0    20     0   3.0  18.0  27.4   \n",
       "4  13.1  10.7    11     6     0     0     0    21     0   1.9  13.9  29.8   \n",
       "\n",
       "     HDSD   HTDD  PRCP  TAVG  TMAX  TMIN  YEAR MONTH  \n",
       "0  1101.1  363.9  80.0   6.6  10.7   2.5  1997    01  \n",
       "1  1355.1  254.0   1.9   9.3  16.1   2.5  1997    02  \n",
       "2  1526.8  171.7   0.0  12.8  22.1   3.4  1997    03  \n",
       "3  1618.1   91.3  35.9  15.4  22.4   8.4  1997    04  \n",
       "4  1684.1   66.0  60.1  16.6  22.9  10.1  1997    05  "
      ]
     },
     "execution_count": 6,
     "metadata": {},
     "output_type": "execute_result"
    }
   ],
   "source": [
    "df.head(5)"
   ]
  },
  {
   "cell_type": "code",
   "execution_count": 7,
   "metadata": {
    "scrolled": true
   },
   "outputs": [
    {
     "data": {
      "text/plain": [
       "(253, 20)"
      ]
     },
     "execution_count": 7,
     "metadata": {},
     "output_type": "execute_result"
    }
   ],
   "source": [
    "df.shape"
   ]
  },
  {
   "cell_type": "code",
   "execution_count": 8,
   "metadata": {},
   "outputs": [
    {
     "data": {
      "text/html": [
       "<div>\n",
       "<style scoped>\n",
       "    .dataframe tbody tr th:only-of-type {\n",
       "        vertical-align: middle;\n",
       "    }\n",
       "\n",
       "    .dataframe tbody tr th {\n",
       "        vertical-align: top;\n",
       "    }\n",
       "\n",
       "    .dataframe thead th {\n",
       "        text-align: right;\n",
       "    }\n",
       "</style>\n",
       "<table border=\"1\" class=\"dataframe\">\n",
       "  <thead>\n",
       "    <tr style=\"text-align: right;\">\n",
       "      <th></th>\n",
       "      <th>CDSD</th>\n",
       "      <th>CLDD</th>\n",
       "      <th>DP01</th>\n",
       "      <th>DP10</th>\n",
       "      <th>DT00</th>\n",
       "      <th>DT32</th>\n",
       "      <th>DX32</th>\n",
       "      <th>DX70</th>\n",
       "      <th>DX90</th>\n",
       "      <th>EMNT</th>\n",
       "      <th>EMXP</th>\n",
       "      <th>EMXT</th>\n",
       "      <th>HDSD</th>\n",
       "      <th>HTDD</th>\n",
       "      <th>PRCP</th>\n",
       "      <th>TAVG</th>\n",
       "      <th>TMAX</th>\n",
       "      <th>TMIN</th>\n",
       "    </tr>\n",
       "  </thead>\n",
       "  <tbody>\n",
       "    <tr>\n",
       "      <th>count</th>\n",
       "      <td>253.000000</td>\n",
       "      <td>253.000000</td>\n",
       "      <td>253.000000</td>\n",
       "      <td>253.000000</td>\n",
       "      <td>253.0</td>\n",
       "      <td>253.000000</td>\n",
       "      <td>253.0</td>\n",
       "      <td>253.000000</td>\n",
       "      <td>253.000000</td>\n",
       "      <td>253.000000</td>\n",
       "      <td>253.000000</td>\n",
       "      <td>253.000000</td>\n",
       "      <td>253.000000</td>\n",
       "      <td>253.00000</td>\n",
       "      <td>253.000000</td>\n",
       "      <td>253.000000</td>\n",
       "      <td>253.000000</td>\n",
       "      <td>253.000000</td>\n",
       "    </tr>\n",
       "    <tr>\n",
       "      <th>mean</th>\n",
       "      <td>327.252174</td>\n",
       "      <td>57.546640</td>\n",
       "      <td>5.913043</td>\n",
       "      <td>3.252964</td>\n",
       "      <td>0.0</td>\n",
       "      <td>4.102767</td>\n",
       "      <td>0.0</td>\n",
       "      <td>14.723320</td>\n",
       "      <td>5.027668</td>\n",
       "      <td>2.492095</td>\n",
       "      <td>12.201186</td>\n",
       "      <td>27.667589</td>\n",
       "      <td>940.325692</td>\n",
       "      <td>162.33083</td>\n",
       "      <td>31.130040</td>\n",
       "      <td>14.847431</td>\n",
       "      <td>21.449012</td>\n",
       "      <td>8.248221</td>\n",
       "    </tr>\n",
       "    <tr>\n",
       "      <th>std</th>\n",
       "      <td>319.139391</td>\n",
       "      <td>85.099926</td>\n",
       "      <td>4.367124</td>\n",
       "      <td>2.744266</td>\n",
       "      <td>0.0</td>\n",
       "      <td>6.619874</td>\n",
       "      <td>0.0</td>\n",
       "      <td>12.971371</td>\n",
       "      <td>8.433401</td>\n",
       "      <td>6.549744</td>\n",
       "      <td>9.681575</td>\n",
       "      <td>8.115993</td>\n",
       "      <td>791.912477</td>\n",
       "      <td>148.39501</td>\n",
       "      <td>28.790185</td>\n",
       "      <td>7.155853</td>\n",
       "      <td>8.232151</td>\n",
       "      <td>6.188658</td>\n",
       "    </tr>\n",
       "    <tr>\n",
       "      <th>min</th>\n",
       "      <td>0.000000</td>\n",
       "      <td>0.000000</td>\n",
       "      <td>0.000000</td>\n",
       "      <td>0.000000</td>\n",
       "      <td>0.0</td>\n",
       "      <td>0.000000</td>\n",
       "      <td>0.0</td>\n",
       "      <td>0.000000</td>\n",
       "      <td>0.000000</td>\n",
       "      <td>-10.500000</td>\n",
       "      <td>0.000000</td>\n",
       "      <td>14.200000</td>\n",
       "      <td>0.000000</td>\n",
       "      <td>0.00000</td>\n",
       "      <td>0.000000</td>\n",
       "      <td>2.300000</td>\n",
       "      <td>8.400000</td>\n",
       "      <td>-3.900000</td>\n",
       "    </tr>\n",
       "    <tr>\n",
       "      <th>25%</th>\n",
       "      <td>0.000000</td>\n",
       "      <td>0.000000</td>\n",
       "      <td>3.000000</td>\n",
       "      <td>1.000000</td>\n",
       "      <td>0.0</td>\n",
       "      <td>0.000000</td>\n",
       "      <td>0.0</td>\n",
       "      <td>0.000000</td>\n",
       "      <td>0.000000</td>\n",
       "      <td>-2.900000</td>\n",
       "      <td>5.000000</td>\n",
       "      <td>20.000000</td>\n",
       "      <td>31.300000</td>\n",
       "      <td>8.10000</td>\n",
       "      <td>9.300000</td>\n",
       "      <td>8.300000</td>\n",
       "      <td>13.600000</td>\n",
       "      <td>2.800000</td>\n",
       "    </tr>\n",
       "    <tr>\n",
       "      <th>50%</th>\n",
       "      <td>263.000000</td>\n",
       "      <td>0.700000</td>\n",
       "      <td>5.000000</td>\n",
       "      <td>3.000000</td>\n",
       "      <td>0.0</td>\n",
       "      <td>0.000000</td>\n",
       "      <td>0.0</td>\n",
       "      <td>15.000000</td>\n",
       "      <td>0.000000</td>\n",
       "      <td>1.300000</td>\n",
       "      <td>10.800000</td>\n",
       "      <td>27.400000</td>\n",
       "      <td>966.000000</td>\n",
       "      <td>127.30000</td>\n",
       "      <td>22.600000</td>\n",
       "      <td>14.200000</td>\n",
       "      <td>20.800000</td>\n",
       "      <td>7.600000</td>\n",
       "    </tr>\n",
       "    <tr>\n",
       "      <th>75%</th>\n",
       "      <td>627.100000</td>\n",
       "      <td>103.700000</td>\n",
       "      <td>8.000000</td>\n",
       "      <td>4.000000</td>\n",
       "      <td>0.0</td>\n",
       "      <td>7.000000</td>\n",
       "      <td>0.0</td>\n",
       "      <td>29.000000</td>\n",
       "      <td>7.000000</td>\n",
       "      <td>8.300000</td>\n",
       "      <td>17.200000</td>\n",
       "      <td>35.300000</td>\n",
       "      <td>1710.400000</td>\n",
       "      <td>298.10000</td>\n",
       "      <td>44.300000</td>\n",
       "      <td>21.600000</td>\n",
       "      <td>29.400000</td>\n",
       "      <td>13.800000</td>\n",
       "    </tr>\n",
       "    <tr>\n",
       "      <th>max</th>\n",
       "      <td>849.400000</td>\n",
       "      <td>328.200000</td>\n",
       "      <td>18.000000</td>\n",
       "      <td>12.000000</td>\n",
       "      <td>0.0</td>\n",
       "      <td>29.000000</td>\n",
       "      <td>0.0</td>\n",
       "      <td>31.000000</td>\n",
       "      <td>30.000000</td>\n",
       "      <td>18.600000</td>\n",
       "      <td>58.900000</td>\n",
       "      <td>41.100000</td>\n",
       "      <td>2239.600000</td>\n",
       "      <td>497.00000</td>\n",
       "      <td>171.600000</td>\n",
       "      <td>28.900000</td>\n",
       "      <td>37.100000</td>\n",
       "      <td>20.800000</td>\n",
       "    </tr>\n",
       "  </tbody>\n",
       "</table>\n",
       "</div>"
      ],
      "text/plain": [
       "             CDSD        CLDD        DP01        DP10   DT00        DT32  \\\n",
       "count  253.000000  253.000000  253.000000  253.000000  253.0  253.000000   \n",
       "mean   327.252174   57.546640    5.913043    3.252964    0.0    4.102767   \n",
       "std    319.139391   85.099926    4.367124    2.744266    0.0    6.619874   \n",
       "min      0.000000    0.000000    0.000000    0.000000    0.0    0.000000   \n",
       "25%      0.000000    0.000000    3.000000    1.000000    0.0    0.000000   \n",
       "50%    263.000000    0.700000    5.000000    3.000000    0.0    0.000000   \n",
       "75%    627.100000  103.700000    8.000000    4.000000    0.0    7.000000   \n",
       "max    849.400000  328.200000   18.000000   12.000000    0.0   29.000000   \n",
       "\n",
       "        DX32        DX70        DX90        EMNT        EMXP        EMXT  \\\n",
       "count  253.0  253.000000  253.000000  253.000000  253.000000  253.000000   \n",
       "mean     0.0   14.723320    5.027668    2.492095   12.201186   27.667589   \n",
       "std      0.0   12.971371    8.433401    6.549744    9.681575    8.115993   \n",
       "min      0.0    0.000000    0.000000  -10.500000    0.000000   14.200000   \n",
       "25%      0.0    0.000000    0.000000   -2.900000    5.000000   20.000000   \n",
       "50%      0.0   15.000000    0.000000    1.300000   10.800000   27.400000   \n",
       "75%      0.0   29.000000    7.000000    8.300000   17.200000   35.300000   \n",
       "max      0.0   31.000000   30.000000   18.600000   58.900000   41.100000   \n",
       "\n",
       "              HDSD       HTDD        PRCP        TAVG        TMAX        TMIN  \n",
       "count   253.000000  253.00000  253.000000  253.000000  253.000000  253.000000  \n",
       "mean    940.325692  162.33083   31.130040   14.847431   21.449012    8.248221  \n",
       "std     791.912477  148.39501   28.790185    7.155853    8.232151    6.188658  \n",
       "min       0.000000    0.00000    0.000000    2.300000    8.400000   -3.900000  \n",
       "25%      31.300000    8.10000    9.300000    8.300000   13.600000    2.800000  \n",
       "50%     966.000000  127.30000   22.600000   14.200000   20.800000    7.600000  \n",
       "75%    1710.400000  298.10000   44.300000   21.600000   29.400000   13.800000  \n",
       "max    2239.600000  497.00000  171.600000   28.900000   37.100000   20.800000  "
      ]
     },
     "execution_count": 8,
     "metadata": {},
     "output_type": "execute_result"
    }
   ],
   "source": [
    "df.describe()"
   ]
  },
  {
   "cell_type": "markdown",
   "metadata": {},
   "source": [
    "Transform YEAR and MONTH columns into datetime objects used in plots"
   ]
  },
  {
   "cell_type": "code",
   "execution_count": 9,
   "metadata": {},
   "outputs": [],
   "source": [
    "years = df['YEAR']\n",
    "months = df['MONTH']\n",
    "\n",
    "date = [year + '-' + month for year, month in zip(years, months)]\n",
    "date = [datetime.datetime.strptime(yearmonth, '%Y-%m') for yearmonth in date]"
   ]
  },
  {
   "cell_type": "code",
   "execution_count": 10,
   "metadata": {},
   "outputs": [
    {
     "data": {
      "text/plain": [
       "['seaborn-talk',\n",
       " 'seaborn-paper',\n",
       " 'seaborn-muted',\n",
       " '_classic_test',\n",
       " 'dark_background',\n",
       " 'seaborn-dark',\n",
       " 'seaborn-pastel',\n",
       " 'seaborn-colorblind',\n",
       " 'classic',\n",
       " 'seaborn-dark-palette',\n",
       " 'bmh',\n",
       " 'Solarize_Light2',\n",
       " 'fivethirtyeight',\n",
       " 'seaborn-whitegrid',\n",
       " 'seaborn-ticks']"
      ]
     },
     "execution_count": 10,
     "metadata": {},
     "output_type": "execute_result"
    }
   ],
   "source": [
    "plt.style.available[:15]"
   ]
  },
  {
   "cell_type": "markdown",
   "metadata": {},
   "source": [
    "Plotting TMAX, TAVG and TMIN for visual analysis"
   ]
  },
  {
   "cell_type": "code",
   "execution_count": 11,
   "metadata": {},
   "outputs": [
    {
     "data": {
      "image/png": "[encoded data removed]",
      "text/plain": [
       "<Figure size 720x720 with 3 Axes>"
      ]
     },
     "metadata": {},
     "output_type": "display_data"
    }
   ],
   "source": [
    "plt.style.use('fivethirtyeight')\n",
    "\n",
    "# setting up plot layout\n",
    "fig, ((ax1, ax2, ax3)) = plt.subplots(nrows=3, ncols=1, figsize = (10,10))\n",
    "fig.autofmt_xdate()\n",
    "\n",
    "ax1.plot(date, df['TMAX'],'r')\n",
    "ax1.set_xlabel(''); \n",
    "ax1.set_ylabel('Temperature (°C)')\n",
    "ax1.set_title('Maximum Temperature')\n",
    "\n",
    "ax2.plot(date, df['TAVG'],'g')\n",
    "ax2.set_xlabel(''); \n",
    "ax2.set_ylabel('Temperature (°C)')\n",
    "ax2.set_title('Average Temperature')\n",
    "\n",
    "ax3.plot(date, df['TMIN'])\n",
    "ax3.set_xlabel('Date')\n",
    "ax3.set_ylabel('Temperature (°C)')\n",
    "ax3.set_title('Minimum Temperature');"
   ]
  },
  {
   "cell_type": "markdown",
   "metadata": {},
   "source": [
    "**Prepare data for machine learning mode**"
   ]
  },
  {
   "cell_type": "markdown",
   "metadata": {},
   "source": [
    "Building arrays for labels (TMAX column) and features (data columns excluding TMAX)"
   ]
  },
  {
   "cell_type": "code",
   "execution_count": 12,
   "metadata": {},
   "outputs": [],
   "source": [
    "labels = np.array(df['TMAX'])\n",
    "features = df.drop('TMAX', axis = 1)\n",
    "feature_columns = list(features.columns) # column names of features\n",
    "features = np.array(features)"
   ]
  },
  {
   "cell_type": "markdown",
   "metadata": {},
   "source": [
    "Split data into training (75%) and testing (25%) datasets"
   ]
  },
  {
   "cell_type": "code",
   "execution_count": 13,
   "metadata": {},
   "outputs": [],
   "source": [
    "from sklearn.model_selection import train_test_split\n",
    "\n",
    "(train_features,test_features,train_labels,test_labels) = train_test_split(features, labels, \n",
    "                                                                           test_size = 0.25, \n",
    "                                                                           random_state = 4)"
   ]
  },
  {
   "cell_type": "code",
   "execution_count": 14,
   "metadata": {},
   "outputs": [
    {
     "name": "stdout",
     "output_type": "stream",
     "text": [
      "Shapes:\n",
      "Train features: (189, 19) \n",
      "Train labels: (189,)\n",
      "Test features: (64, 19) \n",
      "Test labels: (64,)\n"
     ]
    }
   ],
   "source": [
    "print('Shapes:')\n",
    "print('Train features: {0} \\nTrain labels: {1}'.format(train_features.shape,train_labels.shape))\n",
    "print('Test features: {0} \\nTest labels: {1}'.format(test_features.shape,test_labels.shape))"
   ]
  },
  {
   "cell_type": "markdown",
   "metadata": {},
   "source": [
    "Average baseline error using average temperatures (TAVG) as baseline prediction"
   ]
  },
  {
   "cell_type": "code",
   "execution_count": 15,
   "metadata": {},
   "outputs": [
    {
     "name": "stdout",
     "output_type": "stream",
     "text": [
      "average baseline error (°C): 6.46\n"
     ]
    }
   ],
   "source": [
    "baseline_prediction = test_features[:,feature_columns.index('TAVG')]\n",
    "baseline_error = abs(baseline_prediction - test_labels)\n",
    "print('average baseline error (°C): {0}'.format(round(np.mean(baseline_error), 2)))"
   ]
  },
  {
   "cell_type": "markdown",
   "metadata": {},
   "source": [
    "**Training random forest model**"
   ]
  },
  {
   "cell_type": "code",
   "execution_count": 16,
   "metadata": {},
   "outputs": [],
   "source": [
    "from sklearn.ensemble import RandomForestRegressor\n",
    "\n",
    "rfmodel = RandomForestRegressor(n_estimators= 1000, random_state=4)\n",
    "rfmodel.fit(train_features, train_labels);"
   ]
  },
  {
   "cell_type": "markdown",
   "metadata": {},
   "source": [
    "**Predictions and performance metrics**"
   ]
  },
  {
   "cell_type": "markdown",
   "metadata": {},
   "source": [
    "Mean absolute error (MAE), mean absolute percentage error (MAPE) and accuracy of model predictions with test data"
   ]
  },
  {
   "cell_type": "code",
   "execution_count": 17,
   "metadata": {},
   "outputs": [
    {
     "name": "stdout",
     "output_type": "stream",
     "text": [
      "mean absolute error (°C): 0.63\n",
      "mean absolute percentage error (%): 3.79\n",
      "accuracy (%): 96.21\n"
     ]
    }
   ],
   "source": [
    "predictions = rfmodel.predict(test_features)\n",
    "\n",
    "errors = abs(predictions - test_labels)\n",
    "print('mean absolute error (°C): {0}'.format(round(np.mean(errors), 2)))\n",
    "\n",
    "mape = 100 * (errors / test_labels)\n",
    "print('mean absolute percentage error (%): {0}'.format(round(np.mean(mape), 2)))\n",
    "\n",
    "accuracy = 100 - np.mean(mape)\n",
    "print('accuracy (%): {0}'.format(round(accuracy, 2)))"
   ]
  },
  {
   "cell_type": "markdown",
   "metadata": {},
   "source": [
    "Check depth of one tree from the forest "
   ]
  },
  {
   "cell_type": "code",
   "execution_count": 18,
   "metadata": {},
   "outputs": [
    {
     "name": "stdout",
     "output_type": "stream",
     "text": [
      "The depth of this tree is: 11\n"
     ]
    }
   ],
   "source": [
    "tree = rfmodel.estimators_[4]\n",
    "print('The depth of this tree is: {0}'.format(tree.tree_.max_depth))"
   ]
  },
  {
   "cell_type": "markdown",
   "metadata": {},
   "source": [
    "Show feature importances"
   ]
  },
  {
   "cell_type": "code",
   "execution_count": 19,
   "metadata": {},
   "outputs": [
    {
     "name": "stdout",
     "output_type": "stream",
     "text": [
      "Feature: TAVG  (0.58396)\n",
      "Feature: HTDD  (0.18634)\n",
      "Feature: DX70  (0.13473)\n",
      "Feature: CLDD  (0.05905)\n",
      "Feature: EMXT  (0.02433)\n",
      "Feature: DX90  (0.00479)\n",
      "Feature: TMIN  (0.00262)\n",
      "Feature: YEAR  (0.00058)\n",
      "Feature: EMXP  (0.00056)\n",
      "Feature: PRCP  (0.0005)\n",
      "Feature: EMNT  (0.00048)\n",
      "Feature: DP01  (0.00046)\n",
      "Feature: HDSD  (0.00046)\n",
      "Feature: DP10  (0.00041)\n",
      "Feature: DT32  (0.00038)\n",
      "Feature: CDSD  (0.00022)\n",
      "Feature: MONTH (0.00011)\n",
      "Feature: DT00  (0.0)\n",
      "Feature: DX32  (0.0)\n"
     ]
    }
   ],
   "source": [
    "importances = list(rfmodel.feature_importances_)\n",
    "\n",
    "f_importances = [(feature, round(importance, 5)) for feature, importance in zip(feature_columns, importances)]\n",
    "\n",
    "f_importances = sorted(f_importances, key = lambda tup: tup[1], reverse = True)\n",
    "\n",
    "[print('Feature: {0:5} ({1})'.format(tup[0],tup[1])) for tup in f_importances];"
   ]
  },
  {
   "cell_type": "code",
   "execution_count": 20,
   "metadata": {},
   "outputs": [
    {
     "data": {
      "image/png": "[encoded data removed]",
      "text/plain": [
       "<Figure size 1080x360 with 1 Axes>"
      ]
     },
     "metadata": {},
     "output_type": "display_data"
    }
   ],
   "source": [
    "plt.figure(figsize=(15,5))\n",
    "plt.bar(*zip(*f_importances))\n",
    "plt.ylabel('Importance', fontsize=16); \n",
    "plt.xlabel('Feature', fontsize=16); \n",
    "plt.title('Feature Importances', fontsize=20);"
   ]
  },
  {
   "cell_type": "markdown",
   "metadata": {},
   "source": [
    "**Simplifying the model**"
   ]
  },
  {
   "cell_type": "markdown",
   "metadata": {},
   "source": [
    "Create new random forest model with only the top 3 important features and maximum tree depth of 3"
   ]
  },
  {
   "cell_type": "code",
   "execution_count": 21,
   "metadata": {},
   "outputs": [],
   "source": [
    "rfmodel_top3 = RandomForestRegressor(n_estimators=100, max_depth = 3, random_state=4)\n",
    "\n",
    "top3_features = [feature_columns.index('TAVG'),\n",
    "                 feature_columns.index('HTDD'), \n",
    "                 feature_columns.index('DX70')]\n",
    "\n",
    "train_top3_f = train_features[:, top3_features]\n",
    "test_top3_f = test_features[:, top3_features]\n",
    "\n",
    "rfmodel_top3.fit(train_top3_f, train_labels);"
   ]
  },
  {
   "cell_type": "markdown",
   "metadata": {},
   "source": [
    "Compare MAE and accuracy of simplified random forest model with previous one"
   ]
  },
  {
   "cell_type": "code",
   "execution_count": 22,
   "metadata": {},
   "outputs": [
    {
     "name": "stdout",
     "output_type": "stream",
     "text": [
      "mean absolute error with top 3 features (°C): 0.85\n",
      "mean absolute error with all features (°C): 0.63\n",
      "accuracy with top 3 features (%): 94.87\n",
      "accuracy with all features (%): 96.21\n"
     ]
    }
   ],
   "source": [
    "predictions_top3 = rfmodel_top3.predict(test_top3_f)\n",
    "\n",
    "errors_top3 = abs(predictions_top3 - test_labels)\n",
    "print('mean absolute error with top 3 features (°C): {0}'.format(round(np.mean(errors_top3), 2)))\n",
    "print('mean absolute error with all features (°C): {0}'.format(round(np.mean(errors), 2)))\n",
    "\n",
    "mape_top3 = 100 * (errors_top3 / test_labels)\n",
    "accuracy_top3 = 100 - np.mean(mape_top3)\n",
    "print('accuracy with top 3 features (%): {0}'.format(round(accuracy_top3, 2)))\n",
    "print('accuracy with all features (%): {0}'.format(round(accuracy, 2)))"
   ]
  },
  {
   "cell_type": "markdown",
   "metadata": {},
   "source": [
    "Check depth of one tree from the forest"
   ]
  },
  {
   "cell_type": "code",
   "execution_count": 23,
   "metadata": {},
   "outputs": [
    {
     "name": "stdout",
     "output_type": "stream",
     "text": [
      "The depth of this tree is: 3\n"
     ]
    }
   ],
   "source": [
    "tree_top3 = rfmodel_top3.estimators_[44]\n",
    "print('The depth of this tree is: {0}'.format(tree_top3.tree_.max_depth))"
   ]
  },
  {
   "cell_type": "markdown",
   "metadata": {},
   "source": [
    "Graph of decision tree as png image"
   ]
  },
  {
   "cell_type": "code",
   "execution_count": 24,
   "metadata": {},
   "outputs": [],
   "source": [
    "from sklearn.tree import export_graphviz # graph visualization\n",
    "import pydot # graph description language\n",
    "\n",
    "export_graphviz(tree_top3, out_file = 'tree_top3.dot', feature_names = ['TAVG','HTDD','DX70'], rounded = True, precision = 1)\n",
    "\n",
    "(graph, ) = pydot.graph_from_dot_file('tree_top3.dot')\n",
    "\n",
    "graph.write_png('tree_top3.png');"
   ]
  },
  {
   "cell_type": "markdown",
   "metadata": {},
   "source": [
    "![title](tree_top3.png)"
   ]
  }
 ],
 "metadata": {
  "kernelspec": {
   "display_name": "Python [conda env:datascience36]",
   "language": "python",
   "name": "conda-env-datascience36-py"
  },
  "language_info": {
   "codemirror_mode": {
    "name": "ipython",
    "version": 3
   },
   "file_extension": ".py",
   "mimetype": "text/x-python",
   "name": "python",
   "nbconvert_exporter": "python",
   "pygments_lexer": "ipython3",
   "version": "3.6.6"
  }
 },
 "nbformat": 4,
 "nbformat_minor": 2
}
