{
 "cells": [
  {
   "cell_type": "markdown",
   "metadata": {},
   "source": [
    "This jupyter notebook has been created to show [ipyleaflet] library capabilities with maps. \n",
    "\n",
    "The [ipyleaflet] library makes it easy to visualize data that has been manipulated in Python on an interactive [Leaflet.js] map.\n",
    "\n",
    "It is required to enable [ipywidgets] to interact with this jupyter notebook.\n",
    "\n",
    "[ipyleaflet]: https://github.com/jupyter-widgets/ipyleaflet\n",
    "[Leaflet.js]: https://leafletjs.com/\n",
    "[ipywidgets]: https://ipywidgets.readthedocs.io/en/stable/index.html"
   ]
  },
  {
   "cell_type": "code",
   "execution_count": 1,
   "metadata": {},
   "outputs": [],
   "source": [
    "import numpy as np  # linear algebra, arrays\n",
    "import pandas as pd  # data structures\n",
    "from ipyleaflet import (\n",
    "    basemap_to_tiles,\n",
    "    basemaps,\n",
    "    CircleMarker,\n",
    "    GeoJSON,\n",
    "    Heatmap,\n",
    "    Map,\n",
    "    Marker,\n",
    "    MarkerCluster,\n",
    "    Polyline,\n",
    ")\n",
    "from ipywidgets import HTML"
   ]
  },
  {
   "cell_type": "markdown",
   "metadata": {},
   "source": [
    "Countries selection on World Map"
   ]
  },
  {
   "cell_type": "code",
   "execution_count": 2,
   "metadata": {},
   "outputs": [
    {
     "data": {
      "application/vnd.jupyter.widget-view+json": {
       "model_id": "f212b4ba1dc54e2c9d27ce3b03fa2e36",
       "version_major": 2,
       "version_minor": 0
      },
      "text/plain": [
       "Map(center=[0.0, 0.0], controls=(ZoomControl(options=['position', 'zoom_in_text', 'zoom_in_title', 'zoom_out_t…"
      ]
     },
     "execution_count": 2,
     "metadata": {},
     "output_type": "execute_result"
    }
   ],
   "source": [
    "import json\n",
    "import urllib.request\n",
    "\n",
    "# world countries boundaries json file\n",
    "world_countries = \"https://raw.githubusercontent.com/python-visualization/folium/master/examples/data/world-countries.json\"\n",
    "\n",
    "with urllib.request.urlopen(world_countries) as url:\n",
    "    geo_json_data = json.loads(url.read().decode())\n",
    "\n",
    "\n",
    "def country_color_function(feature):\n",
    "    \"\"\"Countries which id start with 'A' set to green and others to grey.\"\"\"\n",
    "    if str(feature[\"id\"]).startswith(\"A\"):\n",
    "        return \"#00f000\"\n",
    "    else:\n",
    "        return \"#808080\"\n",
    "\n",
    "\n",
    "for feature in geo_json_data[\"features\"]:\n",
    "    feature[\"properties\"][\"style\"] = {\n",
    "        \"color\": country_color_function(feature),\n",
    "        \"weight\": 1,\n",
    "        \"fillColor\": country_color_function(feature),\n",
    "        \"fillOpacity\": 0.25,\n",
    "    }\n",
    "\n",
    "world_map = Map(center=(0.0, 0.0), zoom=2)\n",
    "\n",
    "map_layer = basemap_to_tiles(basemaps.OpenStreetMap.Mapnik)\n",
    "world_map.add_layer(map_layer)\n",
    "\n",
    "geo = GeoJSON(data=geo_json_data)\n",
    "\n",
    "world_map.add_layer(geo)\n",
    "\n",
    "world_map"
   ]
  },
  {
   "cell_type": "markdown",
   "metadata": {},
   "source": [
    "Markers on Map"
   ]
  },
  {
   "cell_type": "code",
   "execution_count": 3,
   "metadata": {},
   "outputs": [
    {
     "data": {
      "application/vnd.jupyter.widget-view+json": {
       "model_id": "39913e97714a4bb395887f66f58d7075",
       "version_major": 2,
       "version_minor": 0
      },
      "text/plain": [
       "Map(center=[40.4569, -3.7033], controls=(ZoomControl(options=['position', 'zoom_in_text', 'zoom_in_title', 'zo…"
      ]
     },
     "execution_count": 3,
     "metadata": {},
     "output_type": "execute_result"
    }
   ],
   "source": [
    "madrid_map = Map(center=(40.4569, -3.7033), zoom=11)\n",
    "\n",
    "colors_list = [\n",
    "    \"red\",\n",
    "    \"blue\",\n",
    "    \"green\",\n",
    "    \"orange\",\n",
    "    \"purple\",\n",
    "    \"darkred\",\n",
    "    \"lightred\",\n",
    "    \"beige\",\n",
    "    \"darkblue\",\n",
    "    \"darkgreen\",\n",
    "    \"cadetblue\",\n",
    "    \"darkpurple\",\n",
    "    \"white\",\n",
    "    \"pink\",\n",
    "    \"lightblue\",\n",
    "    \"lightgreen\",\n",
    "    \"gray\",\n",
    "    \"black\",\n",
    "    \"lightgray\",\n",
    "]\n",
    "\n",
    "colors_len = len(colors_list)\n",
    "\n",
    "# markers\n",
    "marker_keys = [\"name\", \"location\", \"icon\"]\n",
    "\n",
    "airport = [\"Adolfo Suarez Madrid Barajas Airport\", (40.47, -3.57), \"plane\"]\n",
    "station = [\"Madrid Puerta de Atocha Station\", (40.406, -3.69), \"ok-sign\"]\n",
    "home = [\"Home\", (40.5, -3.66), \"home\"]\n",
    "museum = [\"Museum\", (40.44, -3.73), \"remove-sign\"]\n",
    "\n",
    "markers_list = []\n",
    "markers_list.append(dict(zip(marker_keys, airport, strict=True)))\n",
    "markers_list.append(dict(zip(marker_keys, station, strict=True)))\n",
    "markers_list.append(dict(zip(marker_keys, home, strict=True)))\n",
    "markers_list.append(dict(zip(marker_keys, museum, strict=True)))\n",
    "\n",
    "# add markers to cluster\n",
    "markers_array = []\n",
    "\n",
    "for marker in markers_list:\n",
    "    popup = HTML()\n",
    "    popup.value = marker[\"name\"]\n",
    "\n",
    "    markers_array.append(\n",
    "        Marker(\n",
    "            location=marker[\"location\"],\n",
    "            popup=popup,\n",
    "        )\n",
    "    )\n",
    "\n",
    "marker_cluster = MarkerCluster(markers=(markers_array))\n",
    "madrid_map.add_layer(marker_cluster)\n",
    "\n",
    "# add table to popup\n",
    "popup_table = HTML()\n",
    "\n",
    "df = pd.DataFrame(\n",
    "    data=[[\"09:00 to 19:00\", \"10:00 to 17:00\"], [\"10:00 to 18:00\", \"10:00 to 15:00\"]],\n",
    "    columns=[\"High Season Opening Hours\", \"Low Season Opening Hours\"],\n",
    "    index=[\"Monday to Friday\", \"Weekends & Holidays\"],\n",
    ")\n",
    "\n",
    "popup_table.value = df.to_html(\n",
    "    classes=\"table table-striped table-hover table-condensed table-responsive\"\n",
    ")\n",
    "\n",
    "marker_table = Marker(location=(40.485, -3.74), popup=popup_table)\n",
    "\n",
    "madrid_map.add_layer(marker_table)\n",
    "madrid_map"
   ]
  },
  {
   "cell_type": "markdown",
   "metadata": {},
   "source": [
    "Heat Map generated with random data"
   ]
  },
  {
   "cell_type": "code",
   "execution_count": 4,
   "metadata": {},
   "outputs": [],
   "source": [
    "data = (np.random.normal(size=(500, 3)) * np.array([[5, 5, 5]]) + np.array([[47, 20, 48]])).tolist()"
   ]
  },
  {
   "cell_type": "code",
   "execution_count": 5,
   "metadata": {},
   "outputs": [
    {
     "data": {
      "application/vnd.jupyter.widget-view+json": {
       "model_id": "25cfc3157019462f841b3d113be60724",
       "version_major": 2,
       "version_minor": 0
      },
      "text/plain": [
       "Map(center=[47, 5], controls=(ZoomControl(options=['position', 'zoom_in_text', 'zoom_in_title', 'zoom_out_text…"
      ]
     },
     "execution_count": 5,
     "metadata": {},
     "output_type": "execute_result"
    }
   ],
   "source": [
    "europe_map = Map(center=(47, 5), zoom=4)\n",
    "\n",
    "map_layer = basemap_to_tiles(basemaps.Esri.WorldTopoMap)\n",
    "europe_map.add_layer(map_layer)\n",
    "\n",
    "heatmap = Heatmap(locations=data, radius=50)\n",
    "\n",
    "europe_map.add_layer(heatmap)\n",
    "\n",
    "europe_map"
   ]
  },
  {
   "cell_type": "markdown",
   "metadata": {},
   "source": [
    "Lines and circles on Map"
   ]
  },
  {
   "cell_type": "code",
   "execution_count": 6,
   "metadata": {},
   "outputs": [
    {
     "data": {
      "application/vnd.jupyter.widget-view+json": {
       "model_id": "b2ab8cea5d7e4d87829d713983b85d19",
       "version_major": 2,
       "version_minor": 0
      },
      "text/plain": [
       "Map(center=[46, 0], controls=(ZoomControl(options=['position', 'zoom_in_text', 'zoom_in_title', 'zoom_out_text…"
      ]
     },
     "execution_count": 6,
     "metadata": {},
     "output_type": "execute_result"
    }
   ],
   "source": [
    "line_keys = [\"stations\", \"points\"]\n",
    "\n",
    "seville_paris = [\n",
    "    [\"Paris\", \"Barcelona\", \"Madrid\", \"Seville\"],\n",
    "    [(48.858093, 2.294694), (41.390205, 2.154007), (40.4169, -3.7033), (37.392529, -5.994072)],\n",
    "]\n",
    "\n",
    "paris_brussels = [[\"Brussels\", \"Paris\"], [(50.8333, 4.35), (48.858093, 2.294694)]]\n",
    "\n",
    "brussels_berlin = [[\"Berlin\", \"Brussels\"], [(52.5186, 13.4081), (50.8333, 4.35)]]\n",
    "\n",
    "paris_london = [\n",
    "    [\"Paris\", \"Calais\", \"London\"],\n",
    "    [(51.5072, -0.1275), (50.9475, 1.91), (48.858093, 2.294694)],\n",
    "]\n",
    "\n",
    "lines_list = []\n",
    "lines_list.append(dict(zip(line_keys, paris_brussels, strict=True)))\n",
    "lines_list.append(dict(zip(line_keys, seville_paris, strict=True)))\n",
    "lines_list.append(dict(zip(line_keys, brussels_berlin, strict=True)))\n",
    "lines_list.append(dict(zip(line_keys, paris_london, strict=True)))\n",
    "\n",
    "# create the map\n",
    "lines_map = Map(center=(46, 0), zoom=4)\n",
    "\n",
    "# add lines to map\n",
    "for i, line in enumerate(lines_list):\n",
    "    my_PolyLine = Polyline(\n",
    "        color=colors_list[i % colors_len],\n",
    "        locations=line[\"points\"],\n",
    "        opacity=1.0,\n",
    "        fill=False,\n",
    "        weight=5,\n",
    "    )\n",
    "    lines_map.add_layer(my_PolyLine)\n",
    "\n",
    "    # add circles to map\n",
    "    for pos in range(len(line[\"points\"])):\n",
    "        popup = HTML()\n",
    "        popup.value = line[\"stations\"][pos]\n",
    "\n",
    "        my_Circle = CircleMarker(\n",
    "            location=line[\"points\"][pos],\n",
    "            radius=6,\n",
    "            popup=popup,\n",
    "            fill=True,\n",
    "            fill_color=\"white\",\n",
    "            color=\"black\",\n",
    "            fill_opacity=0.7,\n",
    "        )\n",
    "        lines_map.add_layer(my_Circle)\n",
    "\n",
    "lines_map"
   ]
  },
  {
   "cell_type": "markdown",
   "metadata": {},
   "source": [
    "Great Circles on Map"
   ]
  },
  {
   "cell_type": "code",
   "execution_count": 7,
   "metadata": {},
   "outputs": [],
   "source": [
    "import math\n",
    "\n",
    "\n",
    "def gcIntermediatePoints(origin, destination, steps):\n",
    "    \"\"\"Calculate Intermediate Points of Great Circle.\n",
    "\n",
    "    Formula:\n",
    "\n",
    "    f: factor\n",
    "    d: distance between points\n",
    "\n",
    "    A = sin((1 - f) * d) / sin(d)\n",
    "    B = sin(f * d) / sin(d)\n",
    "    x = A * cos(lat1) * cos(lon1) + B * cos(lat2) * cos(lon2)\n",
    "    y = A * cos(lat1) * sin(lon1) + B * cos(lat2) * sin(lon2)\n",
    "    z = A * sin(lat1) + B * sin(lat2)\n",
    "    lat = atan2(z, sqrt(x ^ 2 + y ^ 2))\n",
    "    lon = atan2(y, x)\n",
    "\n",
    "    Source http://www.edwilliams.org/avform.htm\n",
    "\n",
    "    Args:\n",
    "        origin [Lat,Lon]: Origin point coordinates in degrees.\n",
    "        destination [Lat,Lon]: Destination point coordinates in degrees.\n",
    "        steps (int): Number of steps between origin and destination.\n",
    "\n",
    "    Returns:\n",
    "        gcPoints: Return great circle points including origin and destination.\n",
    "\n",
    "    \"\"\"\n",
    "\n",
    "    ori_lat, ori_long = origin\n",
    "    dest_lat, dest_long = destination\n",
    "\n",
    "    ori_lat = math.radians(ori_lat)\n",
    "    ori_long = math.radians(ori_long)\n",
    "    dest_lat = math.radians(dest_lat)\n",
    "    dest_long = math.radians(dest_long)\n",
    "\n",
    "    distance = 2 * math.asin(\n",
    "        math.sqrt(\n",
    "            math.pow((math.sin((ori_lat - dest_lat) / 2)), 2)\n",
    "            + math.cos(ori_lat)\n",
    "            * math.cos(dest_lat)\n",
    "            * math.pow(math.sin((ori_long - dest_long) / 2), 2)\n",
    "        )\n",
    "    )\n",
    "\n",
    "    gcPoints = [origin]\n",
    "\n",
    "    # intermediate points\n",
    "    for step in range(1, steps):\n",
    "        fraction = float(step / steps)\n",
    "\n",
    "        A = math.sin((1 - fraction) * distance) / math.sin(distance)\n",
    "        B = math.sin(fraction * distance) / math.sin(distance)\n",
    "        x = A * math.cos(ori_lat) * math.cos(ori_long) + B * math.cos(dest_lat) * math.cos(\n",
    "            dest_long\n",
    "        )\n",
    "        y = A * math.cos(ori_lat) * math.sin(ori_long) + B * math.cos(dest_lat) * math.sin(\n",
    "            dest_long\n",
    "        )\n",
    "        z = A * math.sin(ori_lat) + B * math.sin(dest_lat)\n",
    "        point_lat = math.atan2(z, math.sqrt(math.pow(x, 2) + math.pow(y, 2)))\n",
    "        point_lng = math.atan2(y, x)\n",
    "\n",
    "        gcPoints.append((math.degrees(point_lat), math.degrees(point_lng)))\n",
    "\n",
    "    gcPoints.append(destination)\n",
    "\n",
    "    return gcPoints"
   ]
  },
  {
   "cell_type": "code",
   "execution_count": 8,
   "metadata": {},
   "outputs": [
    {
     "data": {
      "application/vnd.jupyter.widget-view+json": {
       "model_id": "68da2238e19e4ab78b4b9e5159cf34a5",
       "version_major": 2,
       "version_minor": 0
      },
      "text/plain": [
       "Map(center=[44.0, -30.0], controls=(ZoomControl(options=['position', 'zoom_in_text', 'zoom_in_title', 'zoom_ou…"
      ]
     },
     "execution_count": 8,
     "metadata": {},
     "output_type": "execute_result"
    }
   ],
   "source": [
    "gc_map = Map(center=(44.0, -30.0), zoom=3)\n",
    "\n",
    "map_layer = basemap_to_tiles(basemaps.OpenStreetMap.BlackAndWhite)\n",
    "gc_map.add_layer(map_layer)\n",
    "\n",
    "city_keys = [\"name\", \"location\"]\n",
    "ny_data = [\"New York\", (40.488224, -73.131836)]\n",
    "paris_data = [\"Paris\", (48.856667, 2.350987)]\n",
    "madrid_data = [\"Madrid\", (40.4169, -3.7033)]\n",
    "london_data = [\"London\", (51.5072, -0.1275)]\n",
    "berlin_data = [\"Berlin\", (52.5186, 13.4081)]\n",
    "\n",
    "ny = dict(zip(city_keys, ny_data, strict=True))\n",
    "paris = dict(zip(city_keys, paris_data, strict=True))\n",
    "madrid = dict(zip(city_keys, madrid_data, strict=True))\n",
    "london = dict(zip(city_keys, london_data, strict=True))\n",
    "berlin = dict(zip(city_keys, berlin_data, strict=True))\n",
    "\n",
    "cities_list = [ny, paris, madrid, london, berlin]\n",
    "\n",
    "# great circles\n",
    "ny_paris_gc = gcIntermediatePoints(ny[\"location\"], paris[\"location\"], 10)\n",
    "ny_madrid_gc = gcIntermediatePoints(ny[\"location\"], madrid[\"location\"], 10)\n",
    "ny_london_gc = gcIntermediatePoints(ny[\"location\"], london[\"location\"], 10)\n",
    "ny_berlin_gc = gcIntermediatePoints(ny[\"location\"], berlin[\"location\"], 10)\n",
    "\n",
    "gc_list = []\n",
    "gc_list.append(ny_paris_gc)\n",
    "gc_list.append(ny_madrid_gc)\n",
    "gc_list.append(ny_london_gc)\n",
    "gc_list.append(ny_berlin_gc)\n",
    "\n",
    "# add great circles to map\n",
    "for i, gc in enumerate(gc_list):\n",
    "    my_PolyLine = Polyline(color=colors_list[i % colors_len], locations=gc, fill=False, weight=5)\n",
    "    gc_map.add_layer(my_PolyLine)\n",
    "\n",
    "# add circles to map\n",
    "for city in cities_list:\n",
    "    popup = HTML()\n",
    "    popup.value = city[\"name\"]\n",
    "\n",
    "    my_Circle = CircleMarker(\n",
    "        location=city[\"location\"],\n",
    "        radius=6,\n",
    "        popup=popup,\n",
    "        fill=True,\n",
    "        fill_color=\"white\",\n",
    "        color=\"black\",\n",
    "        fill_opacity=0.7,\n",
    "    )\n",
    "    gc_map.add_layer(my_Circle)\n",
    "\n",
    "gc_map"
   ]
  }
 ],
 "metadata": {
  "kernelspec": {
   "display_name": "Python 3 (ipykernel)",
   "language": "python",
   "name": "python3"
  },
  "language_info": {
   "codemirror_mode": {
    "name": "ipython",
    "version": 3
   },
   "file_extension": ".py",
   "mimetype": "text/x-python",
   "name": "python",
   "nbconvert_exporter": "python",
   "pygments_lexer": "ipython3",
   "version": "3.10.12"
  }
 },
 "nbformat": 4,
 "nbformat_minor": 4
}
